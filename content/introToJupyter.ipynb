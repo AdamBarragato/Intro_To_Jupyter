{
 "cells": [
  {
   "cell_type": "markdown",
   "metadata": {},
   "source": [
    "# Introduction to Jupyter Notebooks"
   ]
  },
  {
   "cell_type": "markdown",
   "metadata": {},
   "source": [
    "Jupyter notebooks provide a great environment for prototyping code as they allow you to modularly interact with, experiment, and test code much easier than with non-notebook interfaces. However, they are not suitable for production-level code.\n",
    "\n",
    "First, let's experiment with how to use a Jupyter notebook.  Each cell represents a chunk of code that you can run either in conjunction with other cells or by itself.  To run a cell, you can either press the \"play\" button on the left of the cell, or use \"shift + enter\".  The cell will then run, and if you have output anything, it will print beneath the cell. Test this out below. "
   ]
  },
  {
   "cell_type": "code",
   "execution_count": null,
   "metadata": {},
   "outputs": [],
   "source": [
    "print(\"Hello world\")"
   ]
  },
  {
   "cell_type": "markdown",
   "metadata": {},
   "source": [
    "The nice thing about jupyter notebooks is that you don't even need to write print statements to see the output. This is one of the features that makes it ideal for prototyping and debugging. The default setting is to only print out the last value."
   ]
  },
  {
   "cell_type": "code",
   "execution_count": null,
   "metadata": {},
   "outputs": [],
   "source": [
    "test = \"Hello\" #assign a variable to the value \"Hello\"\n",
    "test # will print out the value of the variable without requiring a print statement"
   ]
  },
  {
   "cell_type": "markdown",
   "metadata": {},
   "source": [
    "The default behaviour is to only print out the last variable (see below), but this is a feature we can change."
   ]
  },
  {
   "cell_type": "code",
   "execution_count": null,
   "metadata": {},
   "outputs": [],
   "source": [
    "test2 = \"world\"\n",
    "test # will not print when the cell is run by default\n",
    "test2 # will print when the cell is run because it is the last variable used"
   ]
  },
  {
   "cell_type": "markdown",
   "metadata": {},
   "source": [
    "To change this behavior, you need to change the following setting in your notebook. However, unless you change this in your environment you will need to reset this in every new notebook. There are many other settings like this that you can change to tweak the output."
   ]
  },
  {
   "cell_type": "code",
   "execution_count": null,
   "metadata": {},
   "outputs": [],
   "source": [
    "from IPython.core.interactiveshell import InteractiveShell\n",
    "InteractiveShell.ast_node_interactivity = \"all\""
   ]
  },
  {
   "cell_type": "code",
   "execution_count": null,
   "metadata": {},
   "outputs": [],
   "source": [
    "test\n",
    "test2"
   ]
  },
  {
   "cell_type": "markdown",
   "metadata": {},
   "source": [
    "In the upper right corner of the screen, you will see the name of the kernel being used.  The kernel represents the environment the code is being run in.  If you want to use a particular python package in your code, you will need to make sure that library is installed into your kernel. However, just because something is installed doesn't mean you can use it right away; you also need to import it. If something is not installed, you will get an error saying that the module is not found."
   ]
  },
  {
   "cell_type": "code",
   "execution_count": null,
   "metadata": {},
   "outputs": [],
   "source": [
    "import seaborn #will throw an error until you install this library"
   ]
  },
  {
   "cell_type": "markdown",
   "metadata": {},
   "source": [
    "To install a library, you can use `pip` or `conda` as a python package manager. Conda is better at dependency managementSince installing is not python code, but rather a system function, you can use `%` before the command to specify that it is a command line function."
   ]
  },
  {
   "cell_type": "code",
   "execution_count": null,
   "metadata": {},
   "outputs": [],
   "source": [
    "%pip install seaborn"
   ]
  },
  {
   "cell_type": "code",
   "execution_count": null,
   "metadata": {},
   "outputs": [],
   "source": [
    "import seaborn as sb #import seaborn and specify the abbreviated version of the name we want to use when calling seaborn functions in our code"
   ]
  },
  {
   "cell_type": "code",
   "execution_count": null,
   "metadata": {},
   "outputs": [],
   "source": [
    "sb.color_palette() #print the colors of the default seaborn palette"
   ]
  },
  {
   "cell_type": "code",
   "execution_count": null,
   "metadata": {},
   "outputs": [],
   "source": []
  }
 ],
 "metadata": {
  "kernelspec": {
   "display_name": "csprimers",
   "language": "python",
   "name": "python3"
  },
  "language_info": {
   "codemirror_mode": {
    "name": "ipython",
    "version": 3
   },
   "file_extension": ".py",
   "mimetype": "text/x-python",
   "name": "python",
   "nbconvert_exporter": "python",
   "pygments_lexer": "ipython3",
   "version": "3.9.19"
  }
 },
 "nbformat": 4,
 "nbformat_minor": 4
}
