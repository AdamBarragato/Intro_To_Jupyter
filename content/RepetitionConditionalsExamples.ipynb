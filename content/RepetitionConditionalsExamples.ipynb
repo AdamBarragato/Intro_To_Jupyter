{
 "cells": [
  {
   "cell_type": "markdown",
   "metadata": {},
   "source": [
    "# Module 1 Examples - Repetition and Conditionals"
   ]
  },
  {
   "cell_type": "markdown",
   "metadata": {},
   "source": [
    "### For loops \n",
    "Iterate over a particular set"
   ]
  },
  {
   "cell_type": "code",
   "execution_count": null,
   "metadata": {},
   "outputs": [],
   "source": [
    "friends = [\"Dave\", \"Min\", \"Jean\", \"Mary\", \"Jude\", \"Jose\"]\n",
    "for name in friends:\n",
    "    print(\"Dear \" + name + \", you are invited\") #indentation is used to denote that the code that is run for each iteration of the loop\n",
    "print(\"Done\") #this will run after the loop has completed"
   ]
  },
  {
   "cell_type": "markdown",
   "metadata": {},
   "source": [
    "### While loops \n",
    "Continue to run until a condition is met"
   ]
  },
  {
   "cell_type": "code",
   "execution_count": null,
   "metadata": {},
   "outputs": [],
   "source": [
    "i = 0\n",
    "while i < 10:\n",
    "    print(i)\n",
    "    i+=1 #increments the value of i by 1\n",
    "print(\"Done\")"
   ]
  },
  {
   "cell_type": "markdown",
   "metadata": {},
   "source": [
    "### Conditionals \n",
    "Used to specify when code should be run"
   ]
  },
  {
   "cell_type": "code",
   "execution_count": null,
   "metadata": {},
   "outputs": [],
   "source": [
    "i = 2\n",
    "if i%2==0: #creates a condition for when the below statement should be run. \"%\" means modulo, essentially looking at the remainder from dividing by a number, in this case, 2\n",
    "    print(\"Even\")\n",
    "else:\n",
    "    print(\"odd\")"
   ]
  },
  {
   "cell_type": "markdown",
   "metadata": {},
   "source": [
    "This can be combined with repetition as well to create more complex logic flow"
   ]
  },
  {
   "cell_type": "code",
   "execution_count": null,
   "metadata": {},
   "outputs": [],
   "source": [
    "x = 1\n",
    "y = 10\n",
    "while x < 15:\n",
    "    print(f\"X is {x} and Y is {y}\")\n",
    "    if x < y: print(\"X is smaller\\n\")\n",
    "    elif x == y: print(\"X and Y are equal\\n\") #elif means \"else if\", essentially specifying a second conditional\n",
    "    else: print(\"Y is smaller\\n\") #else is the default if none of the earlier conditions were met\n",
    "    x += 2\n",
    "    y -= 1"
   ]
  },
  {
   "cell_type": "markdown",
   "metadata": {},
   "source": [
    "### Additional Means of Controlling Logic Flow"
   ]
  },
  {
   "cell_type": "code",
   "execution_count": null,
   "metadata": {},
   "outputs": [],
   "source": [
    "#Break statements are used to exit prematurely\n",
    "for i in range(1,10): #Normally, this would print 1 through 9, but it will exit early with the break\n",
    "    if i%3 == 0:\n",
    "        break\n",
    "    print(i)\n",
    "    "
   ]
  },
  {
   "cell_type": "code",
   "execution_count": null,
   "metadata": {},
   "outputs": [],
   "source": [
    "#Continue is used to skip over the remaining code in a loop iteration and just go on to the next iteration\n",
    "for i in range(1,10): #Normally, this would print 1 through 9, now it simply won't print any numbers divisible by 3\n",
    "    if i%3 == 0:\n",
    "        continue\n",
    "    print(i)"
   ]
  },
  {
   "cell_type": "code",
   "execution_count": null,
   "metadata": {},
   "outputs": [],
   "source": [
    "#Finally, pass is used as a placeholder but doesn't do anything itself.  This is commonly used when in the process of writing code. Without the pass statement, you would get an error because it is expecting something in the body of the loop\n",
    "for i in range(1,10): \n",
    "    pass #This won't do anything, just acts as a placeholder"
   ]
  }
 ],
 "metadata": {
  "kernelspec": {
   "display_name": "module1",
   "language": "python",
   "name": "python3"
  },
  "language_info": {
   "codemirror_mode": {
    "name": "ipython",
    "version": 3
   },
   "file_extension": ".py",
   "mimetype": "text/x-python",
   "name": "python",
   "nbconvert_exporter": "python",
   "pygments_lexer": "ipython3",
   "version": "3.9.19"
  }
 },
 "nbformat": 4,
 "nbformat_minor": 2
}
